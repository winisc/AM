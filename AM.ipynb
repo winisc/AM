{
 "cells": [
  {
   "cell_type": "code",
   "execution_count": 22,
   "metadata": {},
   "outputs": [],
   "source": [
    "import os\n",
    "import requests\n",
    "from zipfile import ZipFile"
   ]
  },
  {
   "cell_type": "code",
   "execution_count": 23,
   "metadata": {},
   "outputs": [],
   "source": [
    "def baixar_arquivo(url, endereco):\n",
    "    #requisição ao servidor\n",
    "    req = requests.get(url)\n",
    "    if req.status_code == requests.codes.OK:      \n",
    "        with open(endereco, 'wb') as novo_arquivo:\n",
    "            novo_arquivo.write(req.content)\n",
    "        print(\"Download finalizado. Salvo em: {}\".format(endereco))\n",
    "    else:\n",
    "        req.raise_for_status() "
   ]
  },
  {
   "cell_type": "code",
   "execution_count": 25,
   "metadata": {},
   "outputs": [
    {
     "name": "stdout",
     "output_type": "stream",
     "text": [
      "Download finalizado. Salvo em: output\\2023.zip\n"
     ]
    }
   ],
   "source": [
    "if __name__ == \"__main__\":\n",
    "    #criando pasta para download\n",
    "    pasta_download = \"output\"\n",
    "    if(not os.path.exists(pasta_download)):                                        \n",
    "        os.mkdir(pasta_download)                                                    \n",
    "\n",
    "    BASE_URL = 'https://portal.inmet.gov.br/uploads/dadoshistoricos/{}.zip'\n",
    "    OUTPUT_DIR = 'output'\n",
    "    #armazenando arquivos\n",
    "    for i in range (2023, 2024):\n",
    "        nome_arquivo = os.path.join(OUTPUT_DIR, '{}.zip'.format(i))\n",
    "        baixar_arquivo(BASE_URL.format(i), nome_arquivo)"
   ]
  },
  {
   "cell_type": "code",
   "execution_count": 26,
   "metadata": {},
   "outputs": [
    {
     "name": "stdout",
     "output_type": "stream",
     "text": [
      "Arquivo 2023 extraido com sucesso.\n"
     ]
    }
   ],
   "source": [
    "   #extraindo arquivos\n",
    "for i in range (2023, 2024):\n",
    "         with ZipFile('output/{}.zip'.format(i), 'r') as zip:\n",
    "                zip.extractall(OUTPUT_DIR)\n",
    "                print(\"Arquivo {} extraido com sucesso.\".format(i))"
   ]
  },
  {
   "cell_type": "code",
   "execution_count": 27,
   "metadata": {},
   "outputs": [
    {
     "name": "stdout",
     "output_type": "stream",
     "text": [
      "%pylab is deprecated, use %matplotlib inline and import the required libraries.\n",
      "Populating the interactive namespace from numpy and matplotlib\n"
     ]
    }
   ],
   "source": [
    "import pandas as pd\n",
    "import datetime\n",
    "from pathlib import Path\n",
    "from pandas.api.types import is_numeric_dtype\n",
    "\n",
    "import os\n",
    "%pylab inline"
   ]
  }
 ],
 "metadata": {
  "kernelspec": {
   "display_name": "base",
   "language": "python",
   "name": "python3"
  },
  "language_info": {
   "codemirror_mode": {
    "name": "ipython",
    "version": 3
   },
   "file_extension": ".py",
   "mimetype": "text/x-python",
   "name": "python",
   "nbconvert_exporter": "python",
   "pygments_lexer": "ipython3",
   "version": "3.10.9"
  },
  "orig_nbformat": 4
 },
 "nbformat": 4,
 "nbformat_minor": 2
}
